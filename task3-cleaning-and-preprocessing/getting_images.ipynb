{
 "cells": [
  {
   "cell_type": "code",
   "execution_count": 22,
   "id": "509b9f52-53d9-4a83-8f97-fb5b1373c101",
   "metadata": {},
   "outputs": [],
   "source": [
    "from sentinelhub import (\n",
    "    SHConfig,\n",
    "    DataCollection,\n",
    "    SentinelHubCatalog,\n",
    "    SentinelHubRequest,\n",
    "    SentinelHubStatistical,\n",
    "    BBox,\n",
    "    bbox_to_dimensions,\n",
    "    CRS,\n",
    "    MimeType,\n",
    "    Geometry,\n",
    ")\n",
    "\n"
   ]
  },
  {
   "cell_type": "code",
   "execution_count": 23,
   "id": "e20e1110-3e24-4dc5-b02f-930ab1b752ab",
   "metadata": {},
   "outputs": [],
   "source": [
    "# Only run this cell if you have not created a configuration.\n",
    "\n",
    "config = SHConfig()\n",
    "config.sh_client_id = \"sh-84d21c38-65f5-410d-9267-b1db4ba47b41\"\n",
    "config.sh_client_secret = \"7ykprUj53bYD42W30gevmHFnI4U5y75M\"\n",
    "config.sh_token_url = \"https://identity.dataspace.copernicus.eu/auth/realms/CDSE/protocol/openid-connect/token\"\n",
    "config.sh_base_url = \"https://sh.dataspace.copernicus.eu\"\n",
    "# config.save(\"cdse\")"
   ]
  },
  {
   "cell_type": "code",
   "execution_count": null,
   "id": "1ace092a-65b4-4306-9ca6-12b8c0bfb921",
   "metadata": {},
   "outputs": [],
   "source": [
    "# Po River Area"
   ]
  },
  {
   "cell_type": "markdown",
   "id": "7acbb2ea-6c47-484e-ac75-5523d6309fd0",
   "metadata": {},
   "source": []
  },
  {
   "cell_type": "code",
   "execution_count": null,
   "id": "035af304-2505-445b-9f52-5c79fc0eee2f",
   "metadata": {},
   "outputs": [],
   "source": []
  },
  {
   "cell_type": "code",
   "execution_count": null,
   "id": "c7944cd6-16af-47e5-aab0-510acacc7214",
   "metadata": {},
   "outputs": [],
   "source": []
  },
  {
   "cell_type": "code",
   "execution_count": 41,
   "id": "3f7f21cd-6cb9-41ef-a6bf-d75dd6467081",
   "metadata": {},
   "outputs": [],
   "source": [
    "aoi_coords_wgs84 = [12.24, 44.66, 12.0, 45.077] "
   ]
  },
  {
   "cell_type": "code",
   "execution_count": 42,
   "id": "4320c6ea-ea69-41ad-aed7-767f672b6a2e",
   "metadata": {},
   "outputs": [
    {
     "name": "stdout",
     "output_type": "stream",
     "text": [
      "Image shape at 10 m resolution: (2060, 4565) pixels\n"
     ]
    }
   ],
   "source": [
    "resolution = 10\n",
    "aoi_bbox = BBox(bbox=aoi_coords_wgs84, crs=CRS.WGS84)\n",
    "aoi_size = bbox_to_dimensions(aoi_bbox, resolution=resolution)\n",
    "\n",
    "print(f\"Image shape at {resolution} m resolution: {aoi_size} pixels\")"
   ]
  },
  {
   "cell_type": "code",
   "execution_count": 37,
   "id": "c19d571f-123e-4d85-8c82-2c65b6f8b668",
   "metadata": {},
   "outputs": [],
   "source": [
    "catalog = SentinelHubCatalog(config=config)"
   ]
  },
  {
   "cell_type": "code",
   "execution_count": null,
   "id": "ead4456b-b15d-42e7-b6a2-3e15a9c2d9b4",
   "metadata": {},
   "outputs": [],
   "source": []
  },
  {
   "cell_type": "code",
   "execution_count": 38,
   "id": "a8eab40e-2440-462b-9720-3d07c57a5040",
   "metadata": {},
   "outputs": [
    {
     "name": "stdout",
     "output_type": "stream",
     "text": [
      "Total number of results: 64\n"
     ]
    },
    {
     "data": {
      "text/plain": [
       "[{'id': 'S2B_MSIL2A_20220719T095559_N0400_R122_T32TQQ_20220719T113943.SAFE',\n",
       "  'properties': {'datetime': '2022-07-19T10:08:33.022Z'}},\n",
       " {'id': 'S2B_MSIL2A_20220719T095559_N0510_R122_T32TQQ_20240717T224534.SAFE',\n",
       "  'properties': {'datetime': '2022-07-19T10:08:33.021Z'}},\n",
       " {'id': 'S2B_MSIL2A_20220719T095559_N0510_R122_T33TUK_20240717T224534.SAFE',\n",
       "  'properties': {'datetime': '2022-07-19T10:08:29.843Z'}},\n",
       " {'id': 'S2B_MSIL2A_20220719T095559_N0400_R122_T33TUK_20220719T113943.SAFE',\n",
       "  'properties': {'datetime': '2022-07-19T10:08:29.843Z'}},\n",
       " {'id': 'S2B_MSIL2A_20220719T095559_N0400_R122_T32TQR_20220719T113943.SAFE',\n",
       "  'properties': {'datetime': '2022-07-19T10:08:18.089Z'}},\n",
       " {'id': 'S2B_MSIL2A_20220719T095559_N0510_R122_T32TQR_20240717T224534.SAFE',\n",
       "  'properties': {'datetime': '2022-07-19T10:08:18.088Z'}},\n",
       " {'id': 'S2B_MSIL2A_20220719T095559_N0510_R122_T33TUL_20240717T224534.SAFE',\n",
       "  'properties': {'datetime': '2022-07-19T10:08:15.505Z'}},\n",
       " {'id': 'S2B_MSIL2A_20220719T095559_N0400_R122_T33TUL_20220719T113943.SAFE',\n",
       "  'properties': {'datetime': '2022-07-19T10:08:15.505Z'}},\n",
       " {'id': 'S2A_MSIL2A_20220717T100611_N0510_R022_T32TQQ_20240717T130024.SAFE',\n",
       "  'properties': {'datetime': '2022-07-17T10:18:37.184Z'}},\n",
       " {'id': 'S2A_MSIL2A_20220717T100611_N0400_R022_T32TQQ_20220717T162059.SAFE',\n",
       "  'properties': {'datetime': '2022-07-17T10:18:37.184Z'}},\n",
       " {'id': 'S2A_MSIL2A_20220717T100611_N0510_R022_T33TUK_20240717T130024.SAFE',\n",
       "  'properties': {'datetime': '2022-07-17T10:18:33.372Z'}},\n",
       " {'id': 'S2A_MSIL2A_20220717T100611_N0400_R022_T33TUK_20220717T162059.SAFE',\n",
       "  'properties': {'datetime': '2022-07-17T10:18:33.372Z'}},\n",
       " {'id': 'S2A_MSIL2A_20220717T100611_N0400_R022_T32TQR_20220717T162059.SAFE',\n",
       "  'properties': {'datetime': '2022-07-17T10:18:22.624Z'}},\n",
       " {'id': 'S2A_MSIL2A_20220717T100611_N0510_R022_T32TQR_20240717T130024.SAFE',\n",
       "  'properties': {'datetime': '2022-07-17T10:18:22.623Z'}},\n",
       " {'id': 'S2A_MSIL2A_20220717T100611_N0510_R022_T33TUL_20240717T130024.SAFE',\n",
       "  'properties': {'datetime': '2022-07-17T10:18:18.935Z'}},\n",
       " {'id': 'S2A_MSIL2A_20220717T100611_N0400_R022_T33TUL_20220717T162059.SAFE',\n",
       "  'properties': {'datetime': '2022-07-17T10:18:18.935Z'}},\n",
       " {'id': 'S2A_MSIL2A_20220714T100041_N0400_R122_T32TQQ_20220714T175057.SAFE',\n",
       "  'properties': {'datetime': '2022-07-14T10:08:40.726Z'}},\n",
       " {'id': 'S2A_MSIL2A_20220714T100041_N0510_R122_T32TQQ_20240703T133330.SAFE',\n",
       "  'properties': {'datetime': '2022-07-14T10:08:40.725Z'}},\n",
       " {'id': 'S2A_MSIL2A_20220714T100041_N0510_R122_T33TUK_20240703T133330.SAFE',\n",
       "  'properties': {'datetime': '2022-07-14T10:08:37.543Z'}},\n",
       " {'id': 'S2A_MSIL2A_20220714T100041_N0400_R122_T33TUK_20220714T175057.SAFE',\n",
       "  'properties': {'datetime': '2022-07-14T10:08:37.543Z'}},\n",
       " {'id': 'S2A_MSIL2A_20220714T100041_N0510_R122_T32TQR_20240703T133330.SAFE',\n",
       "  'properties': {'datetime': '2022-07-14T10:08:25.79Z'}},\n",
       " {'id': 'S2A_MSIL2A_20220714T100041_N0400_R122_T32TQR_20220714T175057.SAFE',\n",
       "  'properties': {'datetime': '2022-07-14T10:08:25.79Z'}},\n",
       " {'id': 'S2A_MSIL2A_20220714T100041_N0510_R122_T33TUL_20240703T133330.SAFE',\n",
       "  'properties': {'datetime': '2022-07-14T10:08:23.201Z'}},\n",
       " {'id': 'S2A_MSIL2A_20220714T100041_N0400_R122_T33TUL_20220714T175057.SAFE',\n",
       "  'properties': {'datetime': '2022-07-14T10:08:23.201Z'}},\n",
       " {'id': 'S2B_MSIL2A_20220712T100559_N0510_R022_T32TQQ_20240717T144905.SAFE',\n",
       "  'properties': {'datetime': '2022-07-12T10:18:29.507Z'}},\n",
       " {'id': 'S2B_MSIL2A_20220712T100559_N0400_R022_T32TQQ_20220712T125540.SAFE',\n",
       "  'properties': {'datetime': '2022-07-12T10:18:29.507Z'}},\n",
       " {'id': 'S2B_MSIL2A_20220712T100559_N0510_R022_T33TUK_20240717T144905.SAFE',\n",
       "  'properties': {'datetime': '2022-07-12T10:18:25.698Z'}},\n",
       " {'id': 'S2B_MSIL2A_20220712T100559_N0400_R022_T33TUK_20220712T125540.SAFE',\n",
       "  'properties': {'datetime': '2022-07-12T10:18:25.698Z'}},\n",
       " {'id': 'S2B_MSIL2A_20220712T100559_N0510_R022_T32TQR_20240717T144905.SAFE',\n",
       "  'properties': {'datetime': '2022-07-12T10:18:14.948Z'}},\n",
       " {'id': 'S2B_MSIL2A_20220712T100559_N0400_R022_T32TQR_20220712T125540.SAFE',\n",
       "  'properties': {'datetime': '2022-07-12T10:18:14.948Z'}},\n",
       " {'id': 'S2B_MSIL2A_20220712T100559_N0510_R022_T33TUL_20240717T144905.SAFE',\n",
       "  'properties': {'datetime': '2022-07-12T10:18:11.265Z'}},\n",
       " {'id': 'S2B_MSIL2A_20220712T100559_N0400_R022_T33TUL_20220712T125540.SAFE',\n",
       "  'properties': {'datetime': '2022-07-12T10:18:11.265Z'}},\n",
       " {'id': 'S2B_MSIL2A_20220709T100029_N0510_R122_T32TQQ_20240723T171717.SAFE',\n",
       "  'properties': {'datetime': '2022-07-09T10:08:32.936Z'}},\n",
       " {'id': 'S2B_MSIL2A_20220709T100029_N0400_R122_T32TQQ_20220709T114004.SAFE',\n",
       "  'properties': {'datetime': '2022-07-09T10:08:32.936Z'}},\n",
       " {'id': 'S2B_MSIL2A_20220709T100029_N0400_R122_T33TUK_20220709T114004.SAFE',\n",
       "  'properties': {'datetime': '2022-07-09T10:08:29.757Z'}},\n",
       " {'id': 'S2B_MSIL2A_20220709T100029_N0510_R122_T33TUK_20240723T171717.SAFE',\n",
       "  'properties': {'datetime': '2022-07-09T10:08:29.756Z'}},\n",
       " {'id': 'S2B_MSIL2A_20220709T100029_N0510_R122_T32TQR_20240723T171717.SAFE',\n",
       "  'properties': {'datetime': '2022-07-09T10:08:17.999Z'}},\n",
       " {'id': 'S2B_MSIL2A_20220709T100029_N0400_R122_T32TQR_20220709T114004.SAFE',\n",
       "  'properties': {'datetime': '2022-07-09T10:08:17.999Z'}},\n",
       " {'id': 'S2B_MSIL2A_20220709T100029_N0510_R122_T33TUL_20240723T171717.SAFE',\n",
       "  'properties': {'datetime': '2022-07-09T10:08:15.413Z'}},\n",
       " {'id': 'S2B_MSIL2A_20220709T100029_N0400_R122_T33TUL_20220709T114004.SAFE',\n",
       "  'properties': {'datetime': '2022-07-09T10:08:15.413Z'}},\n",
       " {'id': 'S2A_MSIL2A_20220707T100611_N0510_R022_T32TQQ_20240701T122420.SAFE',\n",
       "  'properties': {'datetime': '2022-07-07T10:18:38.09Z'}},\n",
       " {'id': 'S2A_MSIL2A_20220707T100611_N0400_R022_T32TQQ_20220707T162905.SAFE',\n",
       "  'properties': {'datetime': '2022-07-07T10:18:38.09Z'}},\n",
       " {'id': 'S2A_MSIL2A_20220707T100611_N0400_R022_T33TUK_20220707T162905.SAFE',\n",
       "  'properties': {'datetime': '2022-07-07T10:18:34.282Z'}},\n",
       " {'id': 'S2A_MSIL2A_20220707T100611_N0510_R022_T33TUK_20240701T122420.SAFE',\n",
       "  'properties': {'datetime': '2022-07-07T10:18:34.281Z'}},\n",
       " {'id': 'S2A_MSIL2A_20220707T100611_N0400_R022_T32TQR_20220707T162905.SAFE',\n",
       "  'properties': {'datetime': '2022-07-07T10:18:23.542Z'}},\n",
       " {'id': 'S2A_MSIL2A_20220707T100611_N0510_R022_T32TQR_20240701T122420.SAFE',\n",
       "  'properties': {'datetime': '2022-07-07T10:18:23.541Z'}},\n",
       " {'id': 'S2A_MSIL2A_20220707T100611_N0510_R022_T33TUL_20240701T122420.SAFE',\n",
       "  'properties': {'datetime': '2022-07-07T10:18:19.848Z'}},\n",
       " {'id': 'S2A_MSIL2A_20220707T100611_N0400_R022_T33TUL_20220707T162905.SAFE',\n",
       "  'properties': {'datetime': '2022-07-07T10:18:19.848Z'}},\n",
       " {'id': 'S2A_MSIL2A_20220704T100041_N0510_R122_T32TQQ_20240622T180348.SAFE',\n",
       "  'properties': {'datetime': '2022-07-04T10:08:41.233Z'}},\n",
       " {'id': 'S2A_MSIL2A_20220704T100041_N0400_R122_T32TQQ_20220704T141618.SAFE',\n",
       "  'properties': {'datetime': '2022-07-04T10:08:41.233Z'}},\n",
       " {'id': 'S2A_MSIL2A_20220704T100041_N0510_R122_T33TUK_20240622T180348.SAFE',\n",
       "  'properties': {'datetime': '2022-07-04T10:08:38.047Z'}},\n",
       " {'id': 'S2A_MSIL2A_20220704T100041_N0400_R122_T33TUK_20220704T141618.SAFE',\n",
       "  'properties': {'datetime': '2022-07-04T10:08:38.047Z'}},\n",
       " {'id': 'S2A_MSIL2A_20220704T100041_N0510_R122_T32TQR_20240622T180348.SAFE',\n",
       "  'properties': {'datetime': '2022-07-04T10:08:26.285Z'}},\n",
       " {'id': 'S2A_MSIL2A_20220704T100041_N0400_R122_T32TQR_20220704T141618.SAFE',\n",
       "  'properties': {'datetime': '2022-07-04T10:08:26.285Z'}},\n",
       " {'id': 'S2A_MSIL2A_20220704T100041_N0510_R122_T33TUL_20240622T180348.SAFE',\n",
       "  'properties': {'datetime': '2022-07-04T10:08:23.694Z'}},\n",
       " {'id': 'S2A_MSIL2A_20220704T100041_N0400_R122_T33TUL_20220704T141618.SAFE',\n",
       "  'properties': {'datetime': '2022-07-04T10:08:23.694Z'}},\n",
       " {'id': 'S2B_MSIL2A_20220702T100559_N0510_R022_T32TQQ_20240701T053734.SAFE',\n",
       "  'properties': {'datetime': '2022-07-02T10:18:30.201Z'}},\n",
       " {'id': 'S2B_MSIL2A_20220702T100559_N0400_R022_T32TQQ_20220702T130622.SAFE',\n",
       "  'properties': {'datetime': '2022-07-02T10:18:30.201Z'}},\n",
       " {'id': 'S2B_MSIL2A_20220702T100559_N0510_R022_T33TUK_20240701T053734.SAFE',\n",
       "  'properties': {'datetime': '2022-07-02T10:18:26.398Z'}},\n",
       " {'id': 'S2B_MSIL2A_20220702T100559_N0400_R022_T33TUK_20220702T130622.SAFE',\n",
       "  'properties': {'datetime': '2022-07-02T10:18:26.398Z'}},\n",
       " {'id': 'S2B_MSIL2A_20220702T100559_N0510_R022_T32TQR_20240701T053734.SAFE',\n",
       "  'properties': {'datetime': '2022-07-02T10:18:15.657Z'}},\n",
       " {'id': 'S2B_MSIL2A_20220702T100559_N0400_R022_T32TQR_20220702T130622.SAFE',\n",
       "  'properties': {'datetime': '2022-07-02T10:18:15.657Z'}},\n",
       " {'id': 'S2B_MSIL2A_20220702T100559_N0510_R022_T33TUL_20240701T053734.SAFE',\n",
       "  'properties': {'datetime': '2022-07-02T10:18:11.968Z'}},\n",
       " {'id': 'S2B_MSIL2A_20220702T100559_N0400_R022_T33TUL_20220702T130622.SAFE',\n",
       "  'properties': {'datetime': '2022-07-02T10:18:11.968Z'}}]"
      ]
     },
     "execution_count": 38,
     "metadata": {},
     "output_type": "execute_result"
    }
   ],
   "source": [
    "aoi_bbox = BBox(bbox=aoi_coords_wgs84, crs=CRS.WGS84)\n",
    "time_interval = \"2022-07-01\", \"2022-07-20\"\n",
    "\n",
    "search_iterator = catalog.search(\n",
    "    DataCollection.SENTINEL2_L2A,\n",
    "    bbox=aoi_bbox,\n",
    "    time=time_interval,\n",
    "    fields={\"include\": [\"id\", \"properties.datetime\"], \"exclude\": []},\n",
    ")\n",
    "\n",
    "results = list(search_iterator)\n",
    "print(\"Total number of results:\", len(results))\n",
    "\n",
    "results"
   ]
  },
  {
   "cell_type": "code",
   "execution_count": null,
   "id": "e692ed47-2631-4bdf-a744-c91238f9f21a",
   "metadata": {},
   "outputs": [],
   "source": []
  },
  {
   "cell_type": "code",
   "execution_count": 32,
   "id": "6d83fc0f-b8be-45c9-b747-3850176b07aa",
   "metadata": {},
   "outputs": [],
   "source": [
    "\n",
    "evalscript_true_color = \"\"\"\n",
    "    //VERSION=3\n",
    "\n",
    "    function setup() {\n",
    "        return {\n",
    "            input: [{\n",
    "                bands: [\"B02\", \"B03\", \"B04\"]\n",
    "            }],\n",
    "            output: {\n",
    "                bands: 11\n",
    "            }\n",
    "        };\n",
    "    }\n",
    "\n",
    "    function evaluatePixel(sample) {\n",
    "        return [sample.B04, sample.B03, sample.B02];\n",
    "    }\n",
    "\"\"\"\n",
    "\n",
    "request_true_color = SentinelHubRequest(\n",
    "    evalscript=evalscript_true_color,\n",
    "    input_data=[\n",
    "        SentinelHubRequest.input_data(\n",
    "            data_collection=DataCollection.SENTINEL2_L2A.define_from(\n",
    "                name=\"s2l2a\", service_url=\"https://sh.dataspace.copernicus.eu\"\n",
    "            ),\n",
    "            time_interval=(\"2022-05-01\", \"2022-05-20\"),\n",
    "            other_args={\"dataFilter\": {\"mosaickingOrder\": \"leastCC\"}},\n",
    "        )\n",
    "    ],\n",
    "    responses=[SentinelHubRequest.output_response(\"default\", MimeType.PNG)],\n",
    "    bbox=aoi_bbox,\n",
    "    size=aoi_size,\n",
    "    config=config,\n",
    ")"
   ]
  },
  {
   "cell_type": "code",
   "execution_count": 39,
   "id": "cfa8f51c-edbf-4295-8965-dd77481a2f2e",
   "metadata": {},
   "outputs": [],
   "source": [
    "true_color_imgs = request_true_color.get_data()"
   ]
  },
  {
   "cell_type": "code",
   "execution_count": 40,
   "id": "e8892a5d-7809-49e5-abd1-a1913c2026e2",
   "metadata": {},
   "outputs": [
    {
     "name": "stdout",
     "output_type": "stream",
     "text": [
      "Returned data is of type = <class 'list'> and length 1.\n",
      "Single element in the list is of type <class 'numpy.ndarray'> and has shape (1054, 860, 4)\n"
     ]
    }
   ],
   "source": [
    "print(\n",
    "    f\"Returned data is of type = {type(true_color_imgs)} and length {len(true_color_imgs)}.\"\n",
    ")\n",
    "print(\n",
    "    f\"Single element in the list is of type {type(true_color_imgs[-1])} and has shape {true_color_imgs[-1].shape}\"\n",
    ")"
   ]
  },
  {
   "cell_type": "code",
   "execution_count": null,
   "id": "7dcb356c-11e9-4096-bc10-aa2f470bd53e",
   "metadata": {},
   "outputs": [],
   "source": []
  },
  {
   "cell_type": "code",
   "execution_count": null,
   "id": "6e4a0844-4ee3-4bde-be8e-63c0990dd6b5",
   "metadata": {},
   "outputs": [],
   "source": []
  },
  {
   "cell_type": "code",
   "execution_count": null,
   "id": "b4c96119-cf09-4fd6-adeb-f88f5ef446a4",
   "metadata": {},
   "outputs": [],
   "source": [
    "# Nord Corsica"
   ]
  },
  {
   "cell_type": "code",
   "execution_count": 43,
   "id": "f6ee0c62-a4f6-4138-93cf-130d0badd103",
   "metadata": {},
   "outputs": [],
   "source": [
    "aoi_coords_wgs84 = [9.288940,43.012681,9.481888,43.119530] "
   ]
  },
  {
   "cell_type": "code",
   "execution_count": 44,
   "id": "260f75a0-5f9c-4733-8207-293b4dcf63e2",
   "metadata": {},
   "outputs": [
    {
     "name": "stdout",
     "output_type": "stream",
     "text": [
      "Image shape at 10 m resolution: (1566, 1194) pixels\n"
     ]
    }
   ],
   "source": [
    "resolution = 10\n",
    "aoi_bbox = BBox(bbox=aoi_coords_wgs84, crs=CRS.WGS84)\n",
    "aoi_size = bbox_to_dimensions(aoi_bbox, resolution=resolution)\n",
    "\n",
    "print(f\"Image shape at {resolution} m resolution: {aoi_size} pixels\")"
   ]
  },
  {
   "cell_type": "code",
   "execution_count": 45,
   "id": "bd1313bb-d931-42d5-b3d5-19f057cf24bb",
   "metadata": {},
   "outputs": [],
   "source": [
    "catalog = SentinelHubCatalog(config=config)"
   ]
  },
  {
   "cell_type": "code",
   "execution_count": 46,
   "id": "cac4ec90-7422-4675-99c1-6d77239690e2",
   "metadata": {},
   "outputs": [
    {
     "name": "stdout",
     "output_type": "stream",
     "text": [
      "Total number of results: 16\n"
     ]
    },
    {
     "data": {
      "text/plain": [
       "[{'id': 'S2A_MSIL2A_20220720T101611_N0510_R065_T32TNN_20240715T001059.SAFE',\n",
       "  'properties': {'datetime': '2022-07-20T10:29:09.387Z'}},\n",
       " {'id': 'S2A_MSIL2A_20220720T101611_N0400_R065_T32TNN_20220720T164302.SAFE',\n",
       "  'properties': {'datetime': '2022-07-20T10:29:08.436Z'}},\n",
       " {'id': 'S2A_MSIL2A_20220717T100611_N0400_R022_T32TNN_20220717T162059.SAFE',\n",
       "  'properties': {'datetime': '2022-07-17T10:19:12.976Z'}},\n",
       " {'id': 'S2A_MSIL2A_20220717T100611_N0510_R022_T32TNN_20240717T130024.SAFE',\n",
       "  'properties': {'datetime': '2022-07-17T10:19:12.971Z'}},\n",
       " {'id': 'S2B_MSIL2A_20220715T101559_N0510_R065_T32TNN_20240724T023217.SAFE',\n",
       "  'properties': {'datetime': '2022-07-15T10:29:02.311Z'}},\n",
       " {'id': 'S2B_MSIL2A_20220715T101559_N0400_R065_T32TNN_20220715T133111.SAFE',\n",
       "  'properties': {'datetime': '2022-07-15T10:29:01.362Z'}},\n",
       " {'id': 'S2B_MSIL2A_20220712T100559_N0510_R022_T32TNN_20240717T144905.SAFE',\n",
       "  'properties': {'datetime': '2022-07-12T10:19:05.298Z'}},\n",
       " {'id': 'S2B_MSIL2A_20220712T100559_N0400_R022_T32TNN_20220712T125540.SAFE',\n",
       "  'properties': {'datetime': '2022-07-12T10:19:05.294Z'}},\n",
       " {'id': 'S2A_MSIL2A_20220710T101611_N0510_R065_T32TNN_20240712T191654.SAFE',\n",
       "  'properties': {'datetime': '2022-07-10T10:29:10.771Z'}},\n",
       " {'id': 'S2A_MSIL2A_20220710T101611_N0400_R065_T32TNN_20220710T165533.SAFE',\n",
       "  'properties': {'datetime': '2022-07-10T10:29:09.806Z'}},\n",
       " {'id': 'S2A_MSIL2A_20220707T100611_N0400_R022_T32TNN_20220707T162905.SAFE',\n",
       "  'properties': {'datetime': '2022-07-07T10:19:13.887Z'}},\n",
       " {'id': 'S2A_MSIL2A_20220707T100611_N0510_R022_T32TNN_20240701T122420.SAFE',\n",
       "  'properties': {'datetime': '2022-07-07T10:19:13.871Z'}},\n",
       " {'id': 'S2B_MSIL2A_20220705T101559_N0510_R065_T32TNN_20240630T220136.SAFE',\n",
       "  'properties': {'datetime': '2022-07-05T10:29:02.931Z'}},\n",
       " {'id': 'S2B_MSIL2A_20220705T101559_N0400_R065_T32TNN_20220705T131726.SAFE',\n",
       "  'properties': {'datetime': '2022-07-05T10:29:01.97Z'}},\n",
       " {'id': 'S2B_MSIL2A_20220702T100559_N0400_R022_T32TNN_20220702T130622.SAFE',\n",
       "  'properties': {'datetime': '2022-07-02T10:19:05.992Z'}},\n",
       " {'id': 'S2B_MSIL2A_20220702T100559_N0510_R022_T32TNN_20240701T053734.SAFE',\n",
       "  'properties': {'datetime': '2022-07-02T10:19:05.983Z'}}]"
      ]
     },
     "execution_count": 46,
     "metadata": {},
     "output_type": "execute_result"
    }
   ],
   "source": [
    "aoi_bbox = BBox(bbox=aoi_coords_wgs84, crs=CRS.WGS84)\n",
    "time_interval = \"2022-07-01\", \"2022-07-20\"\n",
    "\n",
    "search_iterator = catalog.search(\n",
    "    DataCollection.SENTINEL2_L2A,\n",
    "    bbox=aoi_bbox,\n",
    "    time=time_interval,\n",
    "    fields={\"include\": [\"id\", \"properties.datetime\"], \"exclude\": []},\n",
    ")\n",
    "\n",
    "results = list(search_iterator)\n",
    "print(\"Total number of results:\", len(results))\n",
    "\n",
    "results"
   ]
  },
  {
   "cell_type": "code",
   "execution_count": 48,
   "id": "34249f7b-b53c-49f1-8940-0f190375fc5e",
   "metadata": {},
   "outputs": [],
   "source": [
    "\n",
    "evalscript_true_color = \"\"\"\n",
    "    //VERSION=3\n",
    "\n",
    "    function setup() {\n",
    "        return {\n",
    "            input: [{\n",
    "                bands: [\"B02\", \"B03\", \"B04\"]\n",
    "            }],\n",
    "            output: {\n",
    "                bands: 11\n",
    "            }\n",
    "        };\n",
    "    }\n",
    "\n",
    "    function evaluatePixel(sample) {\n",
    "        return [sample.B04, sample.B03, sample.B02];\n",
    "    }\n",
    "\"\"\"\n",
    "\n",
    "request_true_color = SentinelHubRequest(\n",
    "    evalscript=evalscript_true_color,\n",
    "    input_data=[\n",
    "        SentinelHubRequest.input_data(\n",
    "            data_collection=DataCollection.SENTINEL2_L2A.define_from(\n",
    "                name=\"s2l2a\", service_url=\"https://sh.dataspace.copernicus.eu\"\n",
    "            ),\n",
    "            time_interval=(\"2022-05-01\", \"2022-05-20\"),\n",
    "            other_args={\"dataFilter\": {\"mosaickingOrder\": \"leastCC\"}},\n",
    "        )\n",
    "    ],\n",
    "    responses=[SentinelHubRequest.output_response(\"default\", MimeType.PNG)],\n",
    "    bbox=aoi_bbox,\n",
    "    size=aoi_size,\n",
    "    config=config,\n",
    ")"
   ]
  },
  {
   "cell_type": "code",
   "execution_count": 49,
   "id": "54ee8e3a-5672-467f-8ebe-8c3c10d6d796",
   "metadata": {},
   "outputs": [],
   "source": [
    "true_color_imgs = request_true_color.get_data()"
   ]
  },
  {
   "cell_type": "code",
   "execution_count": 51,
   "id": "2d86190c-3633-41ce-8fc8-a86ced3f15d5",
   "metadata": {},
   "outputs": [
    {
     "name": "stdout",
     "output_type": "stream",
     "text": [
      "Returned data is of type = <class 'list'> and length 1.\n",
      "Single element in the list is of type <class 'numpy.ndarray'> and has shape (1194, 1566, 4)\n"
     ]
    }
   ],
   "source": [
    "print(\n",
    "    f\"Returned data is of type = {type(true_color_imgs)} and length {len(true_color_imgs)}.\"\n",
    ")\n",
    "print(\n",
    "    f\"Single element in the list is of type {type(true_color_imgs[-1])} and has shape {true_color_imgs[-1].shape}\"\n",
    ")"
   ]
  },
  {
   "cell_type": "code",
   "execution_count": null,
   "id": "bd674045-86c9-4121-91d9-4da41213cd36",
   "metadata": {},
   "outputs": [],
   "source": []
  },
  {
   "cell_type": "code",
   "execution_count": null,
   "id": "d44f6199-7ef8-446e-8e71-6833079e516d",
   "metadata": {},
   "outputs": [],
   "source": []
  },
  {
   "cell_type": "code",
   "execution_count": null,
   "id": "3318ccf3-e491-4226-8d65-a1ab30cc1e4b",
   "metadata": {},
   "outputs": [],
   "source": [
    "# gulf of Genova"
   ]
  },
  {
   "cell_type": "code",
   "execution_count": 52,
   "id": "c6cb2499-fa21-4df7-a7cb-4244554485df",
   "metadata": {},
   "outputs": [],
   "source": [
    "aoi_coords_wgs84 = [9.288940,43.012681,9.481888,43.119530] "
   ]
  },
  {
   "cell_type": "code",
   "execution_count": 53,
   "id": "19e6a72a-8512-46e8-841d-749d51e4e595",
   "metadata": {
    "scrolled": true
   },
   "outputs": [
    {
     "name": "stdout",
     "output_type": "stream",
     "text": [
      "Total number of results: 16\n"
     ]
    },
    {
     "data": {
      "text/plain": [
       "[{'id': 'S2A_MSIL2A_20220720T101611_N0510_R065_T32TNN_20240715T001059.SAFE',\n",
       "  'properties': {'datetime': '2022-07-20T10:29:09.387Z'}},\n",
       " {'id': 'S2A_MSIL2A_20220720T101611_N0400_R065_T32TNN_20220720T164302.SAFE',\n",
       "  'properties': {'datetime': '2022-07-20T10:29:08.436Z'}},\n",
       " {'id': 'S2A_MSIL2A_20220717T100611_N0400_R022_T32TNN_20220717T162059.SAFE',\n",
       "  'properties': {'datetime': '2022-07-17T10:19:12.976Z'}},\n",
       " {'id': 'S2A_MSIL2A_20220717T100611_N0510_R022_T32TNN_20240717T130024.SAFE',\n",
       "  'properties': {'datetime': '2022-07-17T10:19:12.971Z'}},\n",
       " {'id': 'S2B_MSIL2A_20220715T101559_N0510_R065_T32TNN_20240724T023217.SAFE',\n",
       "  'properties': {'datetime': '2022-07-15T10:29:02.311Z'}},\n",
       " {'id': 'S2B_MSIL2A_20220715T101559_N0400_R065_T32TNN_20220715T133111.SAFE',\n",
       "  'properties': {'datetime': '2022-07-15T10:29:01.362Z'}},\n",
       " {'id': 'S2B_MSIL2A_20220712T100559_N0510_R022_T32TNN_20240717T144905.SAFE',\n",
       "  'properties': {'datetime': '2022-07-12T10:19:05.298Z'}},\n",
       " {'id': 'S2B_MSIL2A_20220712T100559_N0400_R022_T32TNN_20220712T125540.SAFE',\n",
       "  'properties': {'datetime': '2022-07-12T10:19:05.294Z'}},\n",
       " {'id': 'S2A_MSIL2A_20220710T101611_N0510_R065_T32TNN_20240712T191654.SAFE',\n",
       "  'properties': {'datetime': '2022-07-10T10:29:10.771Z'}},\n",
       " {'id': 'S2A_MSIL2A_20220710T101611_N0400_R065_T32TNN_20220710T165533.SAFE',\n",
       "  'properties': {'datetime': '2022-07-10T10:29:09.806Z'}},\n",
       " {'id': 'S2A_MSIL2A_20220707T100611_N0400_R022_T32TNN_20220707T162905.SAFE',\n",
       "  'properties': {'datetime': '2022-07-07T10:19:13.887Z'}},\n",
       " {'id': 'S2A_MSIL2A_20220707T100611_N0510_R022_T32TNN_20240701T122420.SAFE',\n",
       "  'properties': {'datetime': '2022-07-07T10:19:13.871Z'}},\n",
       " {'id': 'S2B_MSIL2A_20220705T101559_N0510_R065_T32TNN_20240630T220136.SAFE',\n",
       "  'properties': {'datetime': '2022-07-05T10:29:02.931Z'}},\n",
       " {'id': 'S2B_MSIL2A_20220705T101559_N0400_R065_T32TNN_20220705T131726.SAFE',\n",
       "  'properties': {'datetime': '2022-07-05T10:29:01.97Z'}},\n",
       " {'id': 'S2B_MSIL2A_20220702T100559_N0400_R022_T32TNN_20220702T130622.SAFE',\n",
       "  'properties': {'datetime': '2022-07-02T10:19:05.992Z'}},\n",
       " {'id': 'S2B_MSIL2A_20220702T100559_N0510_R022_T32TNN_20240701T053734.SAFE',\n",
       "  'properties': {'datetime': '2022-07-02T10:19:05.983Z'}}]"
      ]
     },
     "execution_count": 53,
     "metadata": {},
     "output_type": "execute_result"
    }
   ],
   "source": [
    "aoi_bbox = BBox(bbox=aoi_coords_wgs84, crs=CRS.WGS84)\n",
    "time_interval = \"2022-07-01\", \"2022-07-20\"\n",
    "\n",
    "search_iterator = catalog.search(\n",
    "    DataCollection.SENTINEL2_L2A,\n",
    "    bbox=aoi_bbox,\n",
    "    time=time_interval,\n",
    "    fields={\"include\": [\"id\", \"properties.datetime\"], \"exclude\": []},\n",
    ")\n",
    "\n",
    "results = list(search_iterator)\n",
    "print(\"Total number of results:\", len(results))\n",
    "\n",
    "results"
   ]
  },
  {
   "cell_type": "code",
   "execution_count": 55,
   "id": "ad6946b1-a46d-484e-98df-6490df0af96c",
   "metadata": {},
   "outputs": [],
   "source": [
    "\n",
    "evalscript_true_color = \"\"\"\n",
    "    //VERSION=3\n",
    "\n",
    "    function setup() {\n",
    "        return {\n",
    "            input: [{\n",
    "                bands: [\"B02\", \"B03\", \"B04\"]\n",
    "            }],\n",
    "            output: {\n",
    "                bands: 11\n",
    "            }\n",
    "        };\n",
    "    }\n",
    "\n",
    "    function evaluatePixel(sample) {\n",
    "        return [sample.B04, sample.B03, sample.B02];\n",
    "    }\n",
    "\"\"\"\n",
    "\n",
    "request_true_color = SentinelHubRequest(\n",
    "    evalscript=evalscript_true_color,\n",
    "    input_data=[\n",
    "        SentinelHubRequest.input_data(\n",
    "            data_collection=DataCollection.SENTINEL2_L2A.define_from(\n",
    "                name=\"s2l2a\", service_url=\"https://sh.dataspace.copernicus.eu\"\n",
    "            ),\n",
    "            time_interval=(\"2022-05-01\", \"2022-05-20\"),\n",
    "            other_args={\"dataFilter\": {\"mosaickingOrder\": \"leastCC\"}},\n",
    "        )\n",
    "    ],\n",
    "    responses=[SentinelHubRequest.output_response(\"default\", MimeType.PNG)],\n",
    "    bbox=aoi_bbox,\n",
    "    size=aoi_size,\n",
    "    config=config,\n",
    ")"
   ]
  },
  {
   "cell_type": "code",
   "execution_count": null,
   "id": "470cdc7f-d370-489d-afa1-016e99b54c88",
   "metadata": {},
   "outputs": [],
   "source": [
    "true_color_imgs = request_true_color.get_data()"
   ]
  },
  {
   "cell_type": "code",
   "execution_count": null,
   "id": "b1106a59-ba96-4709-af17-cf09ff130471",
   "metadata": {},
   "outputs": [],
   "source": [
    "print(\n",
    "    f\"Returned data is of type = {type(true_color_imgs)} and length {len(true_color_imgs)}.\"\n",
    ")\n",
    "print(\n",
    "    f\"Single element in the list is of type {type(true_color_imgs[-1])} and has shape {true_color_imgs[-1].shape}\"\n",
    ")"
   ]
  },
  {
   "cell_type": "code",
   "execution_count": null,
   "id": "11fda0d6-2e6b-4e81-8beb-6b8cbcebff80",
   "metadata": {},
   "outputs": [],
   "source": []
  }
 ],
 "metadata": {
  "kernelspec": {
   "display_name": "Python 3.10 (tensorflow)",
   "language": "python",
   "name": "tensorflow"
  },
  "language_info": {
   "codemirror_mode": {
    "name": "ipython",
    "version": 3
   },
   "file_extension": ".py",
   "mimetype": "text/x-python",
   "name": "python",
   "nbconvert_exporter": "python",
   "pygments_lexer": "ipython3",
   "version": "3.10.16"
  }
 },
 "nbformat": 4,
 "nbformat_minor": 5
}
