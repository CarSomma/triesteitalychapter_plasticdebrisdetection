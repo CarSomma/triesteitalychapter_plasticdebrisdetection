{
  "cells": [
    {
      "cell_type": "code",
      "execution_count": null,
      "metadata": {
        "id": "tYeZnzrJNNLu"
      },
      "outputs": [],
      "source": [
        "!pip -q install gdown"
      ]
    },
    {
      "cell_type": "code",
      "execution_count": 1,
      "metadata": {
        "colab": {
          "base_uri": "https://localhost:8080/",
          "height": 105
        },
        "id": "0gYOC2ufDtl-",
        "outputId": "49713f61-b270-400c-b152-f35279189fc6"
      },
      "outputs": [
        {
          "output_type": "stream",
          "name": "stderr",
          "text": [
            "Downloading...\n",
            "From: https://zenodo.org/records/11045944/files/WASP_LW_SENT2_MED_L1C_B_201506_202109_10m_6y_NRT_v1.0.nc?download=1\n",
            "To: /content/data.nc\n",
            "100%|██████████| 2.06G/2.06G [03:43<00:00, 9.23MB/s]\n"
          ]
        },
        {
          "output_type": "execute_result",
          "data": {
            "text/plain": [
              "'data.nc'"
            ],
            "application/vnd.google.colaboratory.intrinsic+json": {
              "type": "string"
            }
          },
          "metadata": {},
          "execution_count": 1
        }
      ],
      "source": [
        "import gdown\n",
        "\n",
        "url = \"https://zenodo.org/records/11045944/files/WASP_LW_SENT2_MED_L1C_B_201506_202109_10m_6y_NRT_v1.0.nc?download=1\"\n",
        "gdown.download(url, \"data.nc\")"
      ]
    },
    {
      "cell_type": "code",
      "source": [
        "!ls"
      ],
      "metadata": {
        "colab": {
          "base_uri": "https://localhost:8080/"
        },
        "id": "nANcw3Ban8el",
        "outputId": "077edb0c-715a-4257-801f-aeff5d439a3a"
      },
      "execution_count": 2,
      "outputs": [
        {
          "output_type": "stream",
          "name": "stdout",
          "text": [
            "data.cn  data.nc  sample_data\n"
          ]
        }
      ]
    },
    {
      "cell_type": "code",
      "source": [
        "import xarray as xr\n",
        "\n",
        "dataset = xr.open_dataset(\"data.nc\")"
      ],
      "metadata": {
        "id": "pKWl1vYXxNvD"
      },
      "execution_count": null,
      "outputs": []
    },
    {
      "cell_type": "code",
      "source": [
        "list(dataset.variables.keys())"
      ],
      "metadata": {
        "colab": {
          "base_uri": "https://localhost:8080/"
        },
        "id": "xkAhW3ARxNr5",
        "outputId": "ca4d669a-8938-4a62-d64c-8feed3ef1f3c"
      },
      "execution_count": 4,
      "outputs": [
        {
          "output_type": "execute_result",
          "data": {
            "text/plain": [
              "['s2_product',\n",
              " 'dec_time',\n",
              " 'x_centroid',\n",
              " 'y_centroid',\n",
              " 'lat_centroid',\n",
              " 'lon_centroid',\n",
              " 'n_pixels_fil',\n",
              " 'limits',\n",
              " 'pixel_x',\n",
              " 'pixel_y',\n",
              " 'pixel_spec']"
            ]
          },
          "metadata": {},
          "execution_count": 4
        }
      ]
    },
    {
      "cell_type": "code",
      "source": [
        "print(dataset[\"n_pixels_fil\"])"
      ],
      "metadata": {
        "colab": {
          "base_uri": "https://localhost:8080/"
        },
        "id": "xezeE2zTxNc2",
        "outputId": "25257c15-555d-4e9f-ad7a-d773735fd2f0"
      },
      "execution_count": 5,
      "outputs": [
        {
          "output_type": "stream",
          "name": "stdout",
          "text": [
            "<xarray.DataArray 'n_pixels_fil' (n_filaments: 14374)> Size: 115kB\n",
            "[14374 values with dtype=float64]\n",
            "Dimensions without coordinates: n_filaments\n",
            "Attributes:\n",
            "    long_name:    Number of pixels in filament\n",
            "    units:        none\n",
            "    description:  Number of detected pixels composing the filament.\n"
          ]
        }
      ]
    },
    {
      "cell_type": "code",
      "source": [
        "import xarray as xr\n",
        "\n",
        "key = 'n_filaments'\n",
        "ds = xr.open_dataset(\"data.nc\", chunks={key: 10})"
      ],
      "metadata": {
        "id": "Xw6OO-HwxNP5"
      },
      "execution_count": 12,
      "outputs": []
    },
    {
      "cell_type": "code",
      "source": [
        "print(\"Dimensions:\", ds.dims)\n",
        "print(\"Sizes:\", ds.sizes)"
      ],
      "metadata": {
        "colab": {
          "base_uri": "https://localhost:8080/"
        },
        "id": "mWMtJiaqyctt",
        "outputId": "60d9724a-bb8c-4f2e-8009-4bbb3e7bc24d"
      },
      "execution_count": 13,
      "outputs": [
        {
          "output_type": "stream",
          "name": "stdout",
          "text": [
            "Dimensions: FrozenMappingWarningOnValuesAccess({'n_filaments': 14374, 'box_dims': 4, 'n_max_pixels_fil': 2563, 'n_bands': 13})\n",
            "Sizes: Frozen({'n_filaments': 14374, 'box_dims': 4, 'n_max_pixels_fil': 2563, 'n_bands': 13})\n"
          ]
        }
      ]
    },
    {
      "cell_type": "code",
      "source": [
        "chunk_size = 10\n",
        "n_time = ds.dims[key]\n",
        "\n",
        "start = 0\n",
        "# for start in range(0, n_time, chunk_size):\n",
        "ds_chunk = ds.isel(n_filaments=slice(start, start + chunk_size))\n",
        "\n",
        "df_chunk = ds_chunk.to_dataframe().reset_index()"
      ],
      "metadata": {
        "id": "6RezIsYKxNE3"
      },
      "execution_count": null,
      "outputs": []
    },
    {
      "cell_type": "code",
      "source": [
        "df_chunk.head()"
      ],
      "metadata": {
        "colab": {
          "base_uri": "https://localhost:8080/",
          "height": 226
        },
        "id": "jNG6FbphxM4Y",
        "outputId": "08209f9b-2b26-43c8-9d87-4d5dd6570a20"
      },
      "execution_count": 16,
      "outputs": [
        {
          "output_type": "execute_result",
          "data": {
            "text/plain": [
              "   n_filaments  box_dims  n_max_pixels_fil  n_bands  \\\n",
              "0            0         0                 0        0   \n",
              "1            0         0                 0        1   \n",
              "2            0         0                 0        2   \n",
              "3            0         0                 0        3   \n",
              "4            0         0                 0        4   \n",
              "\n",
              "                                          s2_product     dec_time  x_centroid  \\\n",
              "0  b'S2A_MSIL1C_20160217T111122_N0201_R137_T29SQA...  2016.129696      2243.0   \n",
              "1  b'S2A_MSIL1C_20160217T111122_N0201_R137_T29SQA...  2016.129696      2243.0   \n",
              "2  b'S2A_MSIL1C_20160217T111122_N0201_R137_T29SQA...  2016.129696      2243.0   \n",
              "3  b'S2A_MSIL1C_20160217T111122_N0201_R137_T29SQA...  2016.129696      2243.0   \n",
              "4  b'S2A_MSIL1C_20160217T111122_N0201_R137_T29SQA...  2016.129696      2243.0   \n",
              "\n",
              "   y_centroid  lat_centroid  lon_centroid  n_pixels_fil  limits  pixel_x  \\\n",
              "0      2468.0     36.818265      -6.48822          45.0  2230.0   2170.0   \n",
              "1      2468.0     36.818265      -6.48822          45.0  2230.0   2170.0   \n",
              "2      2468.0     36.818265      -6.48822          45.0  2230.0   2170.0   \n",
              "3      2468.0     36.818265      -6.48822          45.0  2230.0   2170.0   \n",
              "4      2468.0     36.818265      -6.48822          45.0  2230.0   2170.0   \n",
              "\n",
              "   pixel_y  pixel_spec  \n",
              "0   2626.0      0.1443  \n",
              "1   2626.0      0.1230  \n",
              "2   2626.0      0.0918  \n",
              "3   2626.0      0.0441  \n",
              "4   2626.0      0.0318  "
            ],
            "text/html": [
              "\n",
              "  <div id=\"df-07a4390d-3c8e-4879-814b-8d1c18b692db\" class=\"colab-df-container\">\n",
              "    <div>\n",
              "<style scoped>\n",
              "    .dataframe tbody tr th:only-of-type {\n",
              "        vertical-align: middle;\n",
              "    }\n",
              "\n",
              "    .dataframe tbody tr th {\n",
              "        vertical-align: top;\n",
              "    }\n",
              "\n",
              "    .dataframe thead th {\n",
              "        text-align: right;\n",
              "    }\n",
              "</style>\n",
              "<table border=\"1\" class=\"dataframe\">\n",
              "  <thead>\n",
              "    <tr style=\"text-align: right;\">\n",
              "      <th></th>\n",
              "      <th>n_filaments</th>\n",
              "      <th>box_dims</th>\n",
              "      <th>n_max_pixels_fil</th>\n",
              "      <th>n_bands</th>\n",
              "      <th>s2_product</th>\n",
              "      <th>dec_time</th>\n",
              "      <th>x_centroid</th>\n",
              "      <th>y_centroid</th>\n",
              "      <th>lat_centroid</th>\n",
              "      <th>lon_centroid</th>\n",
              "      <th>n_pixels_fil</th>\n",
              "      <th>limits</th>\n",
              "      <th>pixel_x</th>\n",
              "      <th>pixel_y</th>\n",
              "      <th>pixel_spec</th>\n",
              "    </tr>\n",
              "  </thead>\n",
              "  <tbody>\n",
              "    <tr>\n",
              "      <th>0</th>\n",
              "      <td>0</td>\n",
              "      <td>0</td>\n",
              "      <td>0</td>\n",
              "      <td>0</td>\n",
              "      <td>b'S2A_MSIL1C_20160217T111122_N0201_R137_T29SQA...</td>\n",
              "      <td>2016.129696</td>\n",
              "      <td>2243.0</td>\n",
              "      <td>2468.0</td>\n",
              "      <td>36.818265</td>\n",
              "      <td>-6.48822</td>\n",
              "      <td>45.0</td>\n",
              "      <td>2230.0</td>\n",
              "      <td>2170.0</td>\n",
              "      <td>2626.0</td>\n",
              "      <td>0.1443</td>\n",
              "    </tr>\n",
              "    <tr>\n",
              "      <th>1</th>\n",
              "      <td>0</td>\n",
              "      <td>0</td>\n",
              "      <td>0</td>\n",
              "      <td>1</td>\n",
              "      <td>b'S2A_MSIL1C_20160217T111122_N0201_R137_T29SQA...</td>\n",
              "      <td>2016.129696</td>\n",
              "      <td>2243.0</td>\n",
              "      <td>2468.0</td>\n",
              "      <td>36.818265</td>\n",
              "      <td>-6.48822</td>\n",
              "      <td>45.0</td>\n",
              "      <td>2230.0</td>\n",
              "      <td>2170.0</td>\n",
              "      <td>2626.0</td>\n",
              "      <td>0.1230</td>\n",
              "    </tr>\n",
              "    <tr>\n",
              "      <th>2</th>\n",
              "      <td>0</td>\n",
              "      <td>0</td>\n",
              "      <td>0</td>\n",
              "      <td>2</td>\n",
              "      <td>b'S2A_MSIL1C_20160217T111122_N0201_R137_T29SQA...</td>\n",
              "      <td>2016.129696</td>\n",
              "      <td>2243.0</td>\n",
              "      <td>2468.0</td>\n",
              "      <td>36.818265</td>\n",
              "      <td>-6.48822</td>\n",
              "      <td>45.0</td>\n",
              "      <td>2230.0</td>\n",
              "      <td>2170.0</td>\n",
              "      <td>2626.0</td>\n",
              "      <td>0.0918</td>\n",
              "    </tr>\n",
              "    <tr>\n",
              "      <th>3</th>\n",
              "      <td>0</td>\n",
              "      <td>0</td>\n",
              "      <td>0</td>\n",
              "      <td>3</td>\n",
              "      <td>b'S2A_MSIL1C_20160217T111122_N0201_R137_T29SQA...</td>\n",
              "      <td>2016.129696</td>\n",
              "      <td>2243.0</td>\n",
              "      <td>2468.0</td>\n",
              "      <td>36.818265</td>\n",
              "      <td>-6.48822</td>\n",
              "      <td>45.0</td>\n",
              "      <td>2230.0</td>\n",
              "      <td>2170.0</td>\n",
              "      <td>2626.0</td>\n",
              "      <td>0.0441</td>\n",
              "    </tr>\n",
              "    <tr>\n",
              "      <th>4</th>\n",
              "      <td>0</td>\n",
              "      <td>0</td>\n",
              "      <td>0</td>\n",
              "      <td>4</td>\n",
              "      <td>b'S2A_MSIL1C_20160217T111122_N0201_R137_T29SQA...</td>\n",
              "      <td>2016.129696</td>\n",
              "      <td>2243.0</td>\n",
              "      <td>2468.0</td>\n",
              "      <td>36.818265</td>\n",
              "      <td>-6.48822</td>\n",
              "      <td>45.0</td>\n",
              "      <td>2230.0</td>\n",
              "      <td>2170.0</td>\n",
              "      <td>2626.0</td>\n",
              "      <td>0.0318</td>\n",
              "    </tr>\n",
              "  </tbody>\n",
              "</table>\n",
              "</div>\n",
              "    <div class=\"colab-df-buttons\">\n",
              "\n",
              "  <div class=\"colab-df-container\">\n",
              "    <button class=\"colab-df-convert\" onclick=\"convertToInteractive('df-07a4390d-3c8e-4879-814b-8d1c18b692db')\"\n",
              "            title=\"Convert this dataframe to an interactive table.\"\n",
              "            style=\"display:none;\">\n",
              "\n",
              "  <svg xmlns=\"http://www.w3.org/2000/svg\" height=\"24px\" viewBox=\"0 -960 960 960\">\n",
              "    <path d=\"M120-120v-720h720v720H120Zm60-500h600v-160H180v160Zm220 220h160v-160H400v160Zm0 220h160v-160H400v160ZM180-400h160v-160H180v160Zm440 0h160v-160H620v160ZM180-180h160v-160H180v160Zm440 0h160v-160H620v160Z\"/>\n",
              "  </svg>\n",
              "    </button>\n",
              "\n",
              "  <style>\n",
              "    .colab-df-container {\n",
              "      display:flex;\n",
              "      gap: 12px;\n",
              "    }\n",
              "\n",
              "    .colab-df-convert {\n",
              "      background-color: #E8F0FE;\n",
              "      border: none;\n",
              "      border-radius: 50%;\n",
              "      cursor: pointer;\n",
              "      display: none;\n",
              "      fill: #1967D2;\n",
              "      height: 32px;\n",
              "      padding: 0 0 0 0;\n",
              "      width: 32px;\n",
              "    }\n",
              "\n",
              "    .colab-df-convert:hover {\n",
              "      background-color: #E2EBFA;\n",
              "      box-shadow: 0px 1px 2px rgba(60, 64, 67, 0.3), 0px 1px 3px 1px rgba(60, 64, 67, 0.15);\n",
              "      fill: #174EA6;\n",
              "    }\n",
              "\n",
              "    .colab-df-buttons div {\n",
              "      margin-bottom: 4px;\n",
              "    }\n",
              "\n",
              "    [theme=dark] .colab-df-convert {\n",
              "      background-color: #3B4455;\n",
              "      fill: #D2E3FC;\n",
              "    }\n",
              "\n",
              "    [theme=dark] .colab-df-convert:hover {\n",
              "      background-color: #434B5C;\n",
              "      box-shadow: 0px 1px 3px 1px rgba(0, 0, 0, 0.15);\n",
              "      filter: drop-shadow(0px 1px 2px rgba(0, 0, 0, 0.3));\n",
              "      fill: #FFFFFF;\n",
              "    }\n",
              "  </style>\n",
              "\n",
              "    <script>\n",
              "      const buttonEl =\n",
              "        document.querySelector('#df-07a4390d-3c8e-4879-814b-8d1c18b692db button.colab-df-convert');\n",
              "      buttonEl.style.display =\n",
              "        google.colab.kernel.accessAllowed ? 'block' : 'none';\n",
              "\n",
              "      async function convertToInteractive(key) {\n",
              "        const element = document.querySelector('#df-07a4390d-3c8e-4879-814b-8d1c18b692db');\n",
              "        const dataTable =\n",
              "          await google.colab.kernel.invokeFunction('convertToInteractive',\n",
              "                                                    [key], {});\n",
              "        if (!dataTable) return;\n",
              "\n",
              "        const docLinkHtml = 'Like what you see? Visit the ' +\n",
              "          '<a target=\"_blank\" href=https://colab.research.google.com/notebooks/data_table.ipynb>data table notebook</a>'\n",
              "          + ' to learn more about interactive tables.';\n",
              "        element.innerHTML = '';\n",
              "        dataTable['output_type'] = 'display_data';\n",
              "        await google.colab.output.renderOutput(dataTable, element);\n",
              "        const docLink = document.createElement('div');\n",
              "        docLink.innerHTML = docLinkHtml;\n",
              "        element.appendChild(docLink);\n",
              "      }\n",
              "    </script>\n",
              "  </div>\n",
              "\n",
              "\n",
              "<div id=\"df-142ae489-0757-4b00-8c9a-86f576a0878f\">\n",
              "  <button class=\"colab-df-quickchart\" onclick=\"quickchart('df-142ae489-0757-4b00-8c9a-86f576a0878f')\"\n",
              "            title=\"Suggest charts\"\n",
              "            style=\"display:none;\">\n",
              "\n",
              "<svg xmlns=\"http://www.w3.org/2000/svg\" height=\"24px\"viewBox=\"0 0 24 24\"\n",
              "     width=\"24px\">\n",
              "    <g>\n",
              "        <path d=\"M19 3H5c-1.1 0-2 .9-2 2v14c0 1.1.9 2 2 2h14c1.1 0 2-.9 2-2V5c0-1.1-.9-2-2-2zM9 17H7v-7h2v7zm4 0h-2V7h2v10zm4 0h-2v-4h2v4z\"/>\n",
              "    </g>\n",
              "</svg>\n",
              "  </button>\n",
              "\n",
              "<style>\n",
              "  .colab-df-quickchart {\n",
              "      --bg-color: #E8F0FE;\n",
              "      --fill-color: #1967D2;\n",
              "      --hover-bg-color: #E2EBFA;\n",
              "      --hover-fill-color: #174EA6;\n",
              "      --disabled-fill-color: #AAA;\n",
              "      --disabled-bg-color: #DDD;\n",
              "  }\n",
              "\n",
              "  [theme=dark] .colab-df-quickchart {\n",
              "      --bg-color: #3B4455;\n",
              "      --fill-color: #D2E3FC;\n",
              "      --hover-bg-color: #434B5C;\n",
              "      --hover-fill-color: #FFFFFF;\n",
              "      --disabled-bg-color: #3B4455;\n",
              "      --disabled-fill-color: #666;\n",
              "  }\n",
              "\n",
              "  .colab-df-quickchart {\n",
              "    background-color: var(--bg-color);\n",
              "    border: none;\n",
              "    border-radius: 50%;\n",
              "    cursor: pointer;\n",
              "    display: none;\n",
              "    fill: var(--fill-color);\n",
              "    height: 32px;\n",
              "    padding: 0;\n",
              "    width: 32px;\n",
              "  }\n",
              "\n",
              "  .colab-df-quickchart:hover {\n",
              "    background-color: var(--hover-bg-color);\n",
              "    box-shadow: 0 1px 2px rgba(60, 64, 67, 0.3), 0 1px 3px 1px rgba(60, 64, 67, 0.15);\n",
              "    fill: var(--button-hover-fill-color);\n",
              "  }\n",
              "\n",
              "  .colab-df-quickchart-complete:disabled,\n",
              "  .colab-df-quickchart-complete:disabled:hover {\n",
              "    background-color: var(--disabled-bg-color);\n",
              "    fill: var(--disabled-fill-color);\n",
              "    box-shadow: none;\n",
              "  }\n",
              "\n",
              "  .colab-df-spinner {\n",
              "    border: 2px solid var(--fill-color);\n",
              "    border-color: transparent;\n",
              "    border-bottom-color: var(--fill-color);\n",
              "    animation:\n",
              "      spin 1s steps(1) infinite;\n",
              "  }\n",
              "\n",
              "  @keyframes spin {\n",
              "    0% {\n",
              "      border-color: transparent;\n",
              "      border-bottom-color: var(--fill-color);\n",
              "      border-left-color: var(--fill-color);\n",
              "    }\n",
              "    20% {\n",
              "      border-color: transparent;\n",
              "      border-left-color: var(--fill-color);\n",
              "      border-top-color: var(--fill-color);\n",
              "    }\n",
              "    30% {\n",
              "      border-color: transparent;\n",
              "      border-left-color: var(--fill-color);\n",
              "      border-top-color: var(--fill-color);\n",
              "      border-right-color: var(--fill-color);\n",
              "    }\n",
              "    40% {\n",
              "      border-color: transparent;\n",
              "      border-right-color: var(--fill-color);\n",
              "      border-top-color: var(--fill-color);\n",
              "    }\n",
              "    60% {\n",
              "      border-color: transparent;\n",
              "      border-right-color: var(--fill-color);\n",
              "    }\n",
              "    80% {\n",
              "      border-color: transparent;\n",
              "      border-right-color: var(--fill-color);\n",
              "      border-bottom-color: var(--fill-color);\n",
              "    }\n",
              "    90% {\n",
              "      border-color: transparent;\n",
              "      border-bottom-color: var(--fill-color);\n",
              "    }\n",
              "  }\n",
              "</style>\n",
              "\n",
              "  <script>\n",
              "    async function quickchart(key) {\n",
              "      const quickchartButtonEl =\n",
              "        document.querySelector('#' + key + ' button');\n",
              "      quickchartButtonEl.disabled = true;  // To prevent multiple clicks.\n",
              "      quickchartButtonEl.classList.add('colab-df-spinner');\n",
              "      try {\n",
              "        const charts = await google.colab.kernel.invokeFunction(\n",
              "            'suggestCharts', [key], {});\n",
              "      } catch (error) {\n",
              "        console.error('Error during call to suggestCharts:', error);\n",
              "      }\n",
              "      quickchartButtonEl.classList.remove('colab-df-spinner');\n",
              "      quickchartButtonEl.classList.add('colab-df-quickchart-complete');\n",
              "    }\n",
              "    (() => {\n",
              "      let quickchartButtonEl =\n",
              "        document.querySelector('#df-142ae489-0757-4b00-8c9a-86f576a0878f button');\n",
              "      quickchartButtonEl.style.display =\n",
              "        google.colab.kernel.accessAllowed ? 'block' : 'none';\n",
              "    })();\n",
              "  </script>\n",
              "</div>\n",
              "\n",
              "    </div>\n",
              "  </div>\n"
            ],
            "application/vnd.google.colaboratory.intrinsic+json": {
              "type": "dataframe",
              "variable_name": "df_chunk"
            }
          },
          "metadata": {},
          "execution_count": 16
        }
      ]
    },
    {
      "cell_type": "code",
      "source": [
        "len((df_chunk[\"lat_centroid\"] + df_chunk[\"lon_centroid\"]).unique())"
      ],
      "metadata": {
        "colab": {
          "base_uri": "https://localhost:8080/"
        },
        "id": "tIsQIrzX1Ep8",
        "outputId": "de54f464-4033-4368-b020-dd1d48990684"
      },
      "execution_count": 40,
      "outputs": [
        {
          "output_type": "execute_result",
          "data": {
            "text/plain": [
              "10"
            ]
          },
          "metadata": {},
          "execution_count": 40
        }
      ]
    },
    {
      "cell_type": "code",
      "source": [
        "df_chunk.loc[1]"
      ],
      "metadata": {
        "colab": {
          "base_uri": "https://localhost:8080/",
          "height": 554
        },
        "id": "T7rNCPrUzRGB",
        "outputId": "6b71e30f-a197-4bc5-f242-c65b2741d911"
      },
      "execution_count": 23,
      "outputs": [
        {
          "output_type": "execute_result",
          "data": {
            "text/plain": [
              "n_filaments                                                         0\n",
              "box_dims                                                            0\n",
              "n_max_pixels_fil                                                    0\n",
              "n_bands                                                             1\n",
              "s2_product          b'S2A_MSIL1C_20160217T111122_N0201_R137_T29SQA...\n",
              "dec_time                                                  2016.129696\n",
              "x_centroid                                                     2243.0\n",
              "y_centroid                                                     2468.0\n",
              "lat_centroid                                                36.818265\n",
              "lon_centroid                                                 -6.48822\n",
              "n_pixels_fil                                                     45.0\n",
              "limits                                                         2230.0\n",
              "pixel_x                                                        2170.0\n",
              "pixel_y                                                        2626.0\n",
              "pixel_spec                                                      0.123\n",
              "Name: 1, dtype: object"
            ],
            "text/html": [
              "<div>\n",
              "<style scoped>\n",
              "    .dataframe tbody tr th:only-of-type {\n",
              "        vertical-align: middle;\n",
              "    }\n",
              "\n",
              "    .dataframe tbody tr th {\n",
              "        vertical-align: top;\n",
              "    }\n",
              "\n",
              "    .dataframe thead th {\n",
              "        text-align: right;\n",
              "    }\n",
              "</style>\n",
              "<table border=\"1\" class=\"dataframe\">\n",
              "  <thead>\n",
              "    <tr style=\"text-align: right;\">\n",
              "      <th></th>\n",
              "      <th>1</th>\n",
              "    </tr>\n",
              "  </thead>\n",
              "  <tbody>\n",
              "    <tr>\n",
              "      <th>n_filaments</th>\n",
              "      <td>0</td>\n",
              "    </tr>\n",
              "    <tr>\n",
              "      <th>box_dims</th>\n",
              "      <td>0</td>\n",
              "    </tr>\n",
              "    <tr>\n",
              "      <th>n_max_pixels_fil</th>\n",
              "      <td>0</td>\n",
              "    </tr>\n",
              "    <tr>\n",
              "      <th>n_bands</th>\n",
              "      <td>1</td>\n",
              "    </tr>\n",
              "    <tr>\n",
              "      <th>s2_product</th>\n",
              "      <td>b'S2A_MSIL1C_20160217T111122_N0201_R137_T29SQA...</td>\n",
              "    </tr>\n",
              "    <tr>\n",
              "      <th>dec_time</th>\n",
              "      <td>2016.129696</td>\n",
              "    </tr>\n",
              "    <tr>\n",
              "      <th>x_centroid</th>\n",
              "      <td>2243.0</td>\n",
              "    </tr>\n",
              "    <tr>\n",
              "      <th>y_centroid</th>\n",
              "      <td>2468.0</td>\n",
              "    </tr>\n",
              "    <tr>\n",
              "      <th>lat_centroid</th>\n",
              "      <td>36.818265</td>\n",
              "    </tr>\n",
              "    <tr>\n",
              "      <th>lon_centroid</th>\n",
              "      <td>-6.48822</td>\n",
              "    </tr>\n",
              "    <tr>\n",
              "      <th>n_pixels_fil</th>\n",
              "      <td>45.0</td>\n",
              "    </tr>\n",
              "    <tr>\n",
              "      <th>limits</th>\n",
              "      <td>2230.0</td>\n",
              "    </tr>\n",
              "    <tr>\n",
              "      <th>pixel_x</th>\n",
              "      <td>2170.0</td>\n",
              "    </tr>\n",
              "    <tr>\n",
              "      <th>pixel_y</th>\n",
              "      <td>2626.0</td>\n",
              "    </tr>\n",
              "    <tr>\n",
              "      <th>pixel_spec</th>\n",
              "      <td>0.123</td>\n",
              "    </tr>\n",
              "  </tbody>\n",
              "</table>\n",
              "</div><br><label><b>dtype:</b> object</label>"
            ]
          },
          "metadata": {},
          "execution_count": 23
        }
      ]
    },
    {
      "cell_type": "code",
      "source": [
        "len(df_chunk[df_chunk[\"n_filaments\"]==8])/13, len(df_chunk['n_bands'].unique())"
      ],
      "metadata": {
        "colab": {
          "base_uri": "https://localhost:8080/"
        },
        "id": "pV_7AlFjxMvz",
        "outputId": "06c55722-d1b4-4375-b157-41200534e338"
      },
      "execution_count": 36,
      "outputs": [
        {
          "output_type": "execute_result",
          "data": {
            "text/plain": [
              "(40.046875, 13)"
            ]
          },
          "metadata": {},
          "execution_count": 36
        }
      ]
    },
    {
      "cell_type": "code",
      "source": [
        "df_chunk.columns"
      ],
      "metadata": {
        "colab": {
          "base_uri": "https://localhost:8080/"
        },
        "id": "Nctd-2hS0Xvi",
        "outputId": "418c2062-d384-4f3c-9355-07d41f6df0db"
      },
      "execution_count": 39,
      "outputs": [
        {
          "output_type": "execute_result",
          "data": {
            "text/plain": [
              "Index(['n_filaments', 'box_dims', 'n_max_pixels_fil', 'n_bands', 's2_product',\n",
              "       'dec_time', 'x_centroid', 'y_centroid', 'lat_centroid', 'lon_centroid',\n",
              "       'n_pixels_fil', 'limits', 'pixel_x', 'pixel_y', 'pixel_spec'],\n",
              "      dtype='object')"
            ]
          },
          "metadata": {},
          "execution_count": 39
        }
      ]
    },
    {
      "cell_type": "code",
      "source": [
        "f1 = df_chunk[df_chunk[\"n_filaments\"] == 0]"
      ],
      "metadata": {
        "id": "TvUwTR3R1grN"
      },
      "execution_count": 42,
      "outputs": []
    },
    {
      "cell_type": "code",
      "source": [
        "print(len(f1))\n",
        "for col in f1.columns:\n",
        "    print(f\"{col}: {len(f1[col].unique())}\")\n"
      ],
      "metadata": {
        "colab": {
          "base_uri": "https://localhost:8080/"
        },
        "id": "6I0okH8r1m6D",
        "outputId": "3c3961d6-6a2d-4169-84e2-d1cd99e34693"
      },
      "execution_count": 47,
      "outputs": [
        {
          "output_type": "stream",
          "name": "stdout",
          "text": [
            "133276\n",
            "n_filaments: 1\n",
            "box_dims: 4\n",
            "n_max_pixels_fil: 2563\n",
            "n_bands: 13\n",
            "s2_product: 1\n",
            "dec_time: 1\n",
            "x_centroid: 1\n",
            "y_centroid: 1\n",
            "lat_centroid: 1\n",
            "lon_centroid: 1\n",
            "n_pixels_fil: 1\n",
            "limits: 4\n",
            "pixel_x: 36\n",
            "pixel_y: 44\n",
            "pixel_spec: 322\n"
          ]
        }
      ]
    },
    {
      "cell_type": "code",
      "source": [
        "# len((f1[\"pixel_x\"].astype(str)+\"a\"+f1[\"pixel_y\"].astype(str)).unique())\n",
        "# (f1[\"pixel_x\"].astype(str)+\"a\"+f1[\"pixel_y\"].astype(str)).unique()\n",
        "\n",
        "f1[\"n_bands\"].unique()"
      ],
      "metadata": {
        "colab": {
          "base_uri": "https://localhost:8080/"
        },
        "id": "FdEJIXQt2XnE",
        "outputId": "63203044-9f7a-45ff-cce5-23bf0ffe6212"
      },
      "execution_count": 60,
      "outputs": [
        {
          "output_type": "execute_result",
          "data": {
            "text/plain": [
              "array([ 0,  1,  2,  3,  4,  5,  6,  7,  8,  9, 10, 11, 12])"
            ]
          },
          "metadata": {},
          "execution_count": 60
        }
      ]
    },
    {
      "cell_type": "code",
      "source": [
        "# mask = np.zeros(())\n",
        "import numpy as np\n",
        "from tqdm import tqdm\n",
        "h, w = int(2*f1.loc[0, \"y_centroid\"]), int(2*f1.loc[0, \"x_centroid\"])\n",
        "mask = np.zeros((h, w))\n",
        "\n",
        "min_x = min_y = 1e8\n",
        "max_x = max_y = -1\n",
        "for idx, row in tqdm(f1.iterrows()):\n",
        "    if not np.isnan(row[\"pixel_x\"]) and not np.isnan(row[\"pixel_y\"]):\n",
        "        # print(row[\"pixel_x\"], row[\"pixel_y\"])\n",
        "        p_x, p_y = int(row[\"pixel_x\"]), int(row[\"pixel_y\"])\n",
        "        if p_x < min_x:\n",
        "            min_x = p_x\n",
        "        if p_y < min_y:\n",
        "            min_y = p_y\n",
        "\n",
        "        if p_x > max_x:\n",
        "            max_x = p_x\n",
        "        if p_y > max_y:\n",
        "            max_y = p_y\n",
        "        mask[p_x, p_y] = 1"
      ],
      "metadata": {
        "colab": {
          "base_uri": "https://localhost:8080/"
        },
        "id": "9RXX2sNw3lqK",
        "outputId": "4866bf78-06e7-48dd-a5e4-5fe30133eb6d"
      },
      "execution_count": 87,
      "outputs": [
        {
          "output_type": "stream",
          "name": "stderr",
          "text": [
            "133276it [00:07, 17099.77it/s]\n"
          ]
        }
      ]
    },
    {
      "cell_type": "code",
      "source": [
        "(mask==1).sum(), min_x, min_y, max_x, max_y"
      ],
      "metadata": {
        "colab": {
          "base_uri": "https://localhost:8080/"
        },
        "id": "zcmG1bql5L2c",
        "outputId": "b931d15c-2ff8-4214-dca8-44dfd5578852"
      },
      "execution_count": 79,
      "outputs": [
        {
          "output_type": "execute_result",
          "data": {
            "text/plain": [
              "(np.int64(45), 2170, 2253, 2360, 2626)"
            ]
          },
          "metadata": {},
          "execution_count": 79
        }
      ]
    },
    {
      "cell_type": "code",
      "source": [
        "center_mask = mask[min_x-1:max_x+1, min_y-1:max(min_y+200, max_y+1)]\n",
        "mask.shape, center_mask.shape"
      ],
      "metadata": {
        "colab": {
          "base_uri": "https://localhost:8080/"
        },
        "id": "WPg3kH755uAW",
        "outputId": "74fb178b-58a5-4a5f-f3bb-aa167c013d92"
      },
      "execution_count": 85,
      "outputs": [
        {
          "output_type": "execute_result",
          "data": {
            "text/plain": [
              "((4936, 4486), (192, 375))"
            ]
          },
          "metadata": {},
          "execution_count": 85
        }
      ]
    },
    {
      "cell_type": "code",
      "source": [
        "import matplotlib.pyplot as plt\n",
        "\n",
        "plt.imshow(center_mask, cmap=\"gray\")"
      ],
      "metadata": {
        "colab": {
          "base_uri": "https://localhost:8080/",
          "height": 336
        },
        "id": "5ZMc2arq5EV6",
        "outputId": "a6af2743-043f-4836-d479-3a922ed293a7"
      },
      "execution_count": 86,
      "outputs": [
        {
          "output_type": "execute_result",
          "data": {
            "text/plain": [
              "<matplotlib.image.AxesImage at 0x78e181034310>"
            ]
          },
          "metadata": {},
          "execution_count": 86
        },
        {
          "output_type": "display_data",
          "data": {
            "text/plain": [
              "<Figure size 640x480 with 1 Axes>"
            ],
            "image/png": "[encoded data removed]"
          },
          "metadata": {}
        }
      ]
    },
    {
      "cell_type": "code",
      "source": [
        "a = 36*44*13\n",
        "len(f1)/(a)"
      ],
      "metadata": {
        "colab": {
          "base_uri": "https://localhost:8080/"
        },
        "id": "NCyB1Gv92J-J",
        "outputId": "611700de-f241-4418-8cd5-f1f866326fa2"
      },
      "execution_count": 50,
      "outputs": [
        {
          "output_type": "execute_result",
          "data": {
            "text/plain": [
              "6.472222222222222"
            ]
          },
          "metadata": {},
          "execution_count": 50
        }
      ]
    },
    {
      "cell_type": "code",
      "source": [
        "list(dataset.variables.keys())"
      ],
      "metadata": {
        "colab": {
          "base_uri": "https://localhost:8080/"
        },
        "id": "i3E9QXg7pZKi",
        "outputId": "86b666c7-f00a-4a7d-9644-82e7a1ceae88"
      },
      "execution_count": 8,
      "outputs": [
        {
          "output_type": "execute_result",
          "data": {
            "text/plain": [
              "['s2_product',\n",
              " 'dec_time',\n",
              " 'x_centroid',\n",
              " 'y_centroid',\n",
              " 'lat_centroid',\n",
              " 'lon_centroid',\n",
              " 'n_pixels_fil',\n",
              " 'limits',\n",
              " 'pixel_x',\n",
              " 'pixel_y',\n",
              " 'pixel_spec']"
            ]
          },
          "metadata": {},
          "execution_count": 8
        }
      ]
    },
    {
      "cell_type": "code",
      "source": [],
      "metadata": {
        "id": "FbIpkOFRn4Nm"
      },
      "execution_count": null,
      "outputs": []
    }
  ],
  "metadata": {
    "colab": {
      "provenance": []
    },
    "kernelspec": {
      "display_name": "Python 3",
      "name": "python3"
    },
    "language_info": {
      "name": "python"
    }
  },
  "nbformat": 4,
  "nbformat_minor": 0
}