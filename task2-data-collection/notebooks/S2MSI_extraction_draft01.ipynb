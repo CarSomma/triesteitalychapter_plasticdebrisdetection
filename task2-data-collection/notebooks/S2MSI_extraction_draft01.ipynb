{
 "cells": [
  {
   "cell_type": "code",
   "execution_count": null,
   "metadata": {},
   "outputs": [],
   "source": [
    "import openeo\n",
    "import matplotlib.pyplot as plt"
   ]
  },
  {
   "cell_type": "code",
   "execution_count": null,
   "metadata": {},
   "outputs": [],
   "source": [
    "connection = openeo.connect(url=\"openeo.dataspace.copernicus.eu\")\n",
    "connection"
   ]
  },
  {
   "cell_type": "code",
   "execution_count": null,
   "metadata": {},
   "outputs": [],
   "source": [
    "s2_cube = connection.load_collection(\n",
    "    \"SENTINEL2_L2A\",\n",
    "    temporal_extent=(\"2019-07-01\", \"2019-07-31\"),\n",
    "    spatial_extent={\n",
    "        \"west\": 3.20,\n",
    "        \"south\": 51.18,\n",
    "        \"east\": 3.25,\n",
    "        \"north\": 51.21,\n",
    "        \"crs\": \"EPSG:4326\",\n",
    "    },\n",
    "    bands=[\"B01\", \"B02\", \"B03\", \"B04\", \"B05\", \"B06\", \"B07\", \"B08\", \"B8A\", \"B09\", \"B10\", \"B11\", \"B12\"],\n",
    "    max_cloud_cover=50,\n",
    ")"
   ]
  },
  {
   "cell_type": "markdown",
   "metadata": {},
   "source": [
    "CRS system:"
   ]
  },
  {
   "cell_type": "code",
   "execution_count": null,
   "metadata": {},
   "outputs": [],
   "source": [
    "{\n",
    "  \"input\": {\n",
    "    \"bounds\": {\n",
    "      \"bbox\": [\n",
    "        12.8114318847656,\n",
    "        41.9663828501025,\n",
    "        12.8732299804687,\n",
    "        42.0046623333086\n",
    "      ],\n",
    "      \"properties\": {\n",
    "        \"crs\": \"http://www.opengis.net/def/crs/EPSG/0/4326\"\n",
    "      }\n",
    "    },\n",
    "    \"data\": [\n",
    "      {\n",
    "        \"type\": \"sentinel-2-l1c\"\n",
    "      }\n",
    "    ]\n",
    "  },\n",
    "  ...\n",
    "}"
   ]
  }
 ],
 "metadata": {
  "kernelspec": {
   "display_name": "omdena",
   "language": "python",
   "name": "python3"
  },
  "language_info": {
   "name": "python",
   "version": "3.13.1"
  }
 },
 "nbformat": 4,
 "nbformat_minor": 2
}
