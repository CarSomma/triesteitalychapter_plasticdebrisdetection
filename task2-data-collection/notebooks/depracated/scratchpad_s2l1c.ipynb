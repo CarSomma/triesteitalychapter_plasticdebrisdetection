{
 "cells": [
  {
   "cell_type": "markdown",
   "metadata": {},
   "source": [
    "# other stuff"
   ]
  },
  {
   "cell_type": "code",
   "execution_count": null,
   "metadata": {},
   "outputs": [],
   "source": [
    "import os\n",
    "import datetime\n",
    "import numpy as np\n",
    "import matplotlib.pyplot as plt\n",
    "import pandas as pd\n",
    "import requests\n",
    "import getpass\n",
    "from utils import plot_image\n",
    "\n",
    "from sentinelhub import (\n",
    "    SHConfig,\n",
    "    DataCollection,\n",
    "    SentinelHubCatalog,\n",
    "    SentinelHubRequest,\n",
    "    BBox,\n",
    "    bbox_to_dimensions,\n",
    "    CRS,\n",
    "    MimeType,\n",
    "    Geometry,\n",
    ")"
   ]
  },
  {
   "cell_type": "code",
   "execution_count": null,
   "metadata": {},
   "outputs": [],
   "source": [
    "SHConfig.get_config_location()"
   ]
  },
  {
   "cell_type": "code",
   "execution_count": null,
   "metadata": {},
   "outputs": [],
   "source": [
    "# if config not set up properly:\n",
    "load_dotenv() \n",
    "config = SHConfig(use_defaults=True)\n",
    "config.sh_client_id = os.getenv(\"CLIENT_ID\")\n",
    "config.sh_client_secret = os.getenv(\"CLIENT_SECRET\")\n",
    "config.sh_token_url = os.getenv(\"TOKEN_URL\")\n",
    "config.sh_base_url = os.getenv(\"BASE_URL\")\n",
    "config.save(\"cdse\")"
   ]
  },
  {
   "cell_type": "code",
   "execution_count": null,
   "metadata": {},
   "outputs": [],
   "source": [
    "#else: \n",
    "config = SHConfig(\"cdse\")"
   ]
  },
  {
   "cell_type": "code",
   "execution_count": null,
   "metadata": {},
   "outputs": [],
   "source": [
    "start_date = \"2019-07-01\"\n",
    "end_date = \"2019-07-31\"\n",
    "data_collection = \"SENTINEL-2\"\n",
    "#aoi = \"POLYGON((4.220581 50.958859,4.521264 50.953236,4.545977 50.906064,4.541858 50.802029,4.489685 50.763825,4.23843 50.767734,4.192435 50.806369,4.189689 50.907363,4.220581 50.958859))'\"\n",
    "aoi = \"POLYGON((12 45.5,12 44.5,13 44.5,13 45.5,12 45.5))'\""
   ]
  },
  {
   "cell_type": "code",
   "execution_count": null,
   "metadata": {},
   "outputs": [],
   "source": [
    "json = requests.get(\n",
    "    f\"https://catalogue.dataspace.copernicus.eu/odata/v1/Products?$filter=Collection/Name eq '{data_collection}' and OData.CSC.Intersects(area=geography'SRID=4326;{aoi}) and ContentDate/Start gt {start_date}T00:00:00.000Z and ContentDate/Start lt {end_date}T00:00:00.000Z\"\n",
    ").json()\n",
    "pd.DataFrame.from_dict(json[\"value\"]).head(5)"
   ]
  },
  {
   "cell_type": "code",
   "execution_count": null,
   "metadata": {},
   "outputs": [],
   "source": [
    "request_4_bands = SentinelHubRequest(\n",
    "data_folder='../data',\n",
    "    evalscript=evalscript_true_color,\n",
    "    input_data=[\n",
    "                   \n",
    "       SentinelHubRequest.input_data(\n",
    "           data_collection=DataCollection.SENTINEL2_L1C.define_from(\n",
    "               \"s2l1c\", service_url=config.sh_base_url\n",
    "           ),\n",
    "           time_interval=(\"2019-07-01\", \"2019-07-31\"),\n",
    "           other_args={\"dataFilter\": {\"mosaickingOrder\": \"leastCC\"}}\n",
    "        ), \n",
    "    ],\n",
    "\n",
    "    responses=[\n",
    "     \n",
    "    {\n",
    "        \"identifier\": \"TrueColor\",\n",
    "        \"format\": {\"type\": \"image/tiff\"},\n",
    "    },\n",
    "    {\n",
    "        \"identifier\": \"B04\",\n",
    "        \"format\": {\"type\": \"image/tiff\"},\n",
    "    },\n",
    "    {\n",
    "        \"identifier\": \"B06\",\n",
    "        \"format\": {\"type\": \"image/tiff\"},\n",
    "    },\n",
    "    {\n",
    "        \"identifier\": \"B08\",\n",
    "        \"format\": {\"type\": \"image/tiff\"},\n",
    "    },\n",
    "    {\n",
    "        \"identifier\": \"B11\",\n",
    "        \"format\": {\"type\": \"image/tiff\"},\n",
    "    },\n",
    "    ],\n",
    "bbox=aoi_bbox,\n",
    "size=aoi_size,\n",
    "config=config,\n",
    ")"
   ]
  },
  {
   "cell_type": "code",
   "execution_count": null,
   "metadata": {},
   "outputs": [],
   "source": [
    "Optional AOI #3:\n",
    "South East Calabria\n",
    "(16 38.75, 16 37.75, 17 37.75, 17 38.75, 16 38.75)"
   ]
  },
  {
   "cell_type": "markdown",
   "metadata": {},
   "source": [
    "# save images"
   ]
  },
  {
   "cell_type": "code",
   "execution_count": null,
   "metadata": {},
   "outputs": [],
   "source": [
    "true_color_imgs = []\n",
    "request_4_bands[0].get_data()\n",
    "print(\n",
    "    f\"Returned data is of type = {type(true_color_imgs)} and length {len(true_color_imgs)}.\"\n",
    ")\n",
    "print(\n",
    "    f\"Single element in the list is of type {type(true_color_imgs[-1])} and has shape {true_color_imgs[-1].shape}\"\n",
    ")"
   ]
  },
  {
   "cell_type": "code",
   "execution_count": null,
   "metadata": {},
   "outputs": [],
   "source": [
    "from PIL import Image\n",
    "\n",
    "true_color_imgs = []\n",
    "# Ensure the \"data\" folder exists in the parent directory\n",
    "output_dir = \"../data\"\n",
    "os.makedirs(output_dir, exist_ok=True)\n",
    "\n",
    "# Loop through each result to fetch the corresponding image\n",
    "for result in new_results:\n",
    "    timestamp = result[\"properties\"][\"datetime\"]\n",
    "    result_id = result[\"id\"]  # Use the result's ID for naming\n",
    "    print(f\"Fetching image for timestamp: {timestamp}, ID: {result_id}\")\n",
    "\n",
    "    # Request for a single image corresponding to the timestamp\n",
    "    request_true_color = SentinelHubRequest(\n",
    "        evalscript=evalscript_true_color,\n",
    "        input_data=[\n",
    "            SentinelHubRequest.input_data(\n",
    "                data_collection=DataCollection.SENTINEL2_L1C.define_from(\n",
    "                    name=\"s2l1c\", service_url=\"https://sh.dataspace.copernicus.eu\"\n",
    "                ),\n",
    "                time_interval=(timestamp, timestamp),  # Use specific timestamp for each result\n",
    "                other_args={\"dataFilter\": {\"mosaickingOrder\": \"leastCC\"}},\n",
    "            )\n",
    "        ],\n",
    "        responses=[SentinelHubRequest.output_response(\"default\", MimeType.TIFF)],\n",
    "        bbox=aoi_bbox,\n",
    "        size=aoi_size,\n",
    "        config=config,\n",
    "    )\n",
    "\n",
    "    # Get the data (the image) and append to the list\n",
    "    image = request_true_color.get_data()\n",
    "    \n",
    "    # Since get_data() returns a list of images, take the first one\n",
    "    true_color_imgs.append(image[0])  # Append the first image (or modify as needed)\n",
    "    \n",
    "    # Save the image to the \"data\" folder\n",
    "    image_array = image[0]\n",
    "    image_path = os.path.join(output_dir, f\"{result_id}.tiff\")  # Use result ID for naming\n",
    "    Image.fromarray(image_array).save(image_path)\n",
    "    \n",
    "    print(f\"Fetched and stored image for {timestamp} with ID {result_id} at {image_path}\")"
   ]
  },
  {
   "cell_type": "markdown",
   "metadata": {},
   "source": [
    "# eval double up"
   ]
  },
  {
   "cell_type": "code",
   "execution_count": null,
   "metadata": {},
   "outputs": [],
   "source": [
    "\n",
    "evalscript_true_color = \"\"\"\n",
    "    //VERSION=3\n",
    "\n",
    "    function setup() {\n",
    "        return {\n",
    "            input: [{\n",
    "                bands: [\"B04\", \"B06\", \"B08\", \"B11\"]\n",
    "            }],\n",
    "            output: {\n",
    "                bands: 4\n",
    "            }\n",
    "        };\n",
    "    }\n",
    "\n",
    "    function evaluatePixel(sample) {\n",
    "        return [sample.B04, sample.B06, sample.B08, sample.B11];\n",
    "    }\n",
    "\"\"\"\n",
    "\n",
    "request_true_color = SentinelHubRequest(\n",
    "    evalscript=evalscript_true_color,\n",
    "    input_data=[\n",
    "        SentinelHubRequest.input_data(\n",
    "            data_collection=DataCollection.SENTINEL2_L1C.define_from(\n",
    "                name=\"s2l1c\", service_url=\"https://sh.dataspace.copernicus.eu\"\n",
    "            ),\n",
    "            time_interval=(\"2019-07-01\", \"2019-07-31\"),\n",
    "            other_args={\"dataFilter\": {\"mosaickingOrder\": \"leastCC\"}},\n",
    "        )\n",
    "    ],\n",
    "    responses=[SentinelHubRequest.output_response(\"default\", MimeType.TIFF)],\n",
    "    bbox=aoi_bbox,\n",
    "    size=aoi1_size, # exchange for aoi2_size for Corsica , aoi3_size for Calabria as req.\n",
    "    config=config,\n",
    ")"
   ]
  },
  {
   "cell_type": "markdown",
   "metadata": {},
   "source": [
    "# alt auth"
   ]
  },
  {
   "cell_type": "code",
   "execution_count": null,
   "metadata": {},
   "outputs": [],
   "source": [
    "from oauthlib.oauth2 import BackendApplicationClient\n",
    "from requests_oauthlib import OAuth2Session\n",
    "\n",
    "# Your client credentials\n",
    "client_id = '<client_id>'\n",
    "client_secret = '<secret>'\n",
    "\n",
    "# Create a session\n",
    "client = BackendApplicationClient(client_id=client_id)\n",
    "oauth = OAuth2Session(client=client)\n",
    "\n",
    "# Get token for the session\n",
    "token = oauth.fetch_token(token_url='https://identity.dataspace.copernicus.eu/auth/realms/CDSE/protocol/openid-connect/token',\n",
    "                          client_secret=client_secret, include_client_id=True)\n",
    "\n",
    "# All requests using this session will have an access token automatically added\n",
    "resp = oauth.get(\"https://sh.dataspace.copernicus.eu/configuration/v1/wms/instances\")\n",
    "print(resp.content)"
   ]
  }
 ],
 "metadata": {
  "language_info": {
   "name": "python"
  }
 },
 "nbformat": 4,
 "nbformat_minor": 2
}
